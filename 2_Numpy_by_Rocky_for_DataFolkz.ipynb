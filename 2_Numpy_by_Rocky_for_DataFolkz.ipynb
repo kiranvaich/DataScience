{
  "nbformat": 4,
  "nbformat_minor": 0,
  "metadata": {
    "colab": {
      "name": "2_Numpy_by_Rocky_for_DataFolkz",
      "provenance": [],
      "collapsed_sections": [],
      "include_colab_link": true
    },
    "kernelspec": {
      "name": "python3",
      "display_name": "Python 3"
    }
  },
  "cells": [
    {
      "cell_type": "markdown",
      "metadata": {
        "id": "view-in-github",
        "colab_type": "text"
      },
      "source": [
        "<a href=\"https://colab.research.google.com/github/kiranvaich/DataScience/blob/main/2_Numpy_by_Rocky_for_DataFolkz.ipynb\" target=\"_parent\"><img src=\"https://colab.research.google.com/assets/colab-badge.svg\" alt=\"Open In Colab\"/></a>"
      ]
    },
    {
      "cell_type": "markdown",
      "metadata": {
        "id": "oVSyEpjYn6pS"
      },
      "source": [
        "The **entire course** uses a \"**notebook\" coding environment**.  In case you are unfamiliar with colab notebooks, we have a [90-second intro video](https://www.youtube.com/watch?v=4C2qMnaIKL4).\n",
        "\n",
        "This content is prepared by <font color=\"darkgreen\"><b>Rocky Jagtiani</b></font> (https://www.linkedin.com/in/rocky-jagtiani-3b390649/) for <font color=\"darkblue\"><b>learners at the Data Folkz</b></font>."
      ]
    },
    {
      "cell_type": "markdown",
      "metadata": {
        "id": "S2jGzW97emUc"
      },
      "source": [
        "<u>Quick Introduction</u> to all Packages of Python used in Data Science Applications\n",
        "--\n",
        "\n",
        "<font color='green'><h3><b>NumPy</b> -> **Num**erical **Py**thon</h3></font>\n",
        "\n",
        "> One of the most fundamental packages in Python, NumPy is a general-purpose array-processing package. \n",
        "\n",
        "> It provides high-performance multidimensional array objects and tools to work with the arrays. \n",
        "\n",
        "> NumPy facilitates math operations on arrays and their vectorization. This significantly enhances performance and speeds up the execution time correspondingly.\n",
        "\n",
        "<font color='green'><h3><b>Pandas</b></h3></font>\n",
        "> **pandas** is everyone's favorite data analyis library providing fast, flexible, and expressive data structures designed to work with relational or table-like data (SQL table or Excel spreadsheet). It is a fundamental high-level building block for doing practical, real world data analysis in Python.\n",
        "\n",
        "> **pandas** have two primary data structures, Series (1-dimensional) and DataFrame (2-dimensional)\n",
        "\n",
        "<font color='green'><h3><b>MatplotLib</b></h3></font>\n",
        "> **Matplotlib** is a Python 2D plotting library.\n",
        "\n",
        "> We use it to **plot Graphs** like Histograms, line graphs, scatter plots, etc.. to explore the data better.\n",
        "\n",
        "<font color='green'><h3><b>Seaborn</b></h3></font>\n",
        "> **Seaborn** is a data visualization library based on Matplotlib that provides a high-level interface for drawing attractive and informative statistical graphics. ***Putting it simply, seaborn is an extension of Matplotlib with advanced features.***\n",
        "\n",
        "<font color='green'><h3><b>SciPy Stats</b></h3></font>\n",
        "\n",
        "> The **SciPy library** is one of the core packages that make up the SciPy stack.\n",
        "\n",
        "> **SciPy library** contains modules for efficient mathematical routines as linear algebra, interpolation, optimization, integration, and statistics. The main functionality of the SciPy library is built upon NumPy and its arrays. SciPy makes significant use of NumPy.\n",
        "\n",
        "<font color='green'><h3><b>Scikit Learn</b></h3></font>\n",
        "> Scikit Learn is a **robust machine learning library** for Python. It features ML algorithms like SVMs, random forests, k-means clustering, spectral clustering, mean shift, cross-validation and more... Even NumPy, SciPy and related scientific operations are supported by Scikit Learn with Scikit Learn being a part of the SciPy Stack.\n",
        "\n",
        "> Scikit-learn provides a range of **supervised** and **unsupervised** learning algorithms."
      ]
    },
    {
      "cell_type": "markdown",
      "metadata": {
        "id": "Epz5RTB91K18"
      },
      "source": [
        "<u>This Notebook deals with **NumPy**</u>\n",
        "\n",
        "**We will cover the following topics:**\n",
        "\n",
        "> **Why to use** NumPy  --> Motivating Examples\n",
        "\n",
        "> **NumPy arrays** – creation, methods, and attributes\n",
        "\n",
        "> **Basic math** with arrays\n",
        "\n",
        "> **Manipulation with arrays**\n",
        "\n",
        "> Using NumPy for **simulations**"
      ]
    },
    {
      "cell_type": "markdown",
      "metadata": {
        "id": "-go7hYDO7RPx"
      },
      "source": [
        "**Motivating examples**\n",
        "--"
      ]
    },
    {
      "cell_type": "code",
      "metadata": {
        "id": "kELxYKEJD1rd"
      },
      "source": [
        "# Let's now look into the type of problem that NumPy solves and \n",
        "# why we need it to use it, with a small example.\n",
        "\n",
        "distances = [10, 15, 17, 26, 20]\n",
        "times = [0.3, 0.47, 0.55, 1.20, 1.0]"
      ],
      "execution_count": null,
      "outputs": []
    },
    {
      "cell_type": "code",
      "metadata": {
        "id": "jk3WFVj078KP",
        "outputId": "fc3d5e4d-c00e-4adf-b1bc-8b6630ac9937",
        "colab": {
          "base_uri": "https://localhost:8080/",
          "height": 101
        }
      },
      "source": [
        "# Calculate speeds with Python\n",
        "speeds = []\n",
        "for i in range(len(distances)):\n",
        "    speeds.append(distances[i]/times[i])\n",
        "    \n",
        "speeds"
      ],
      "execution_count": null,
      "outputs": [
        {
          "output_type": "execute_result",
          "data": {
            "text/plain": [
              "[33.333333333333336,\n",
              " 31.914893617021278,\n",
              " 30.909090909090907,\n",
              " 21.666666666666668,\n",
              " 20.0]"
            ]
          },
          "metadata": {
            "tags": []
          },
          "execution_count": 48
        }
      ]
    },
    {
      "cell_type": "markdown",
      "metadata": {
        "id": "Wb6HHDn68d7D"
      },
      "source": [
        "Qn : Can't we simply do like this ?\n",
        "--\n",
        "\n",
        "speeds = distances/times\n",
        "\n",
        "total = (product_quantities*prices).sum()\n",
        "\n",
        "**Try it**  --> <font color='red'><b>see error below</b></font>"
      ]
    },
    {
      "cell_type": "code",
      "metadata": {
        "id": "-icBJbL68pzb",
        "outputId": "c65a05a6-88db-4aa5-9ff0-e36c636bc123",
        "colab": {
          "base_uri": "https://localhost:8080/",
          "height": 195
        }
      },
      "source": [
        "speeds = distances/times\n",
        "\n",
        "# Python doesn't allow a list to be divided by a list or list multiplication."
      ],
      "execution_count": null,
      "outputs": [
        {
          "output_type": "error",
          "ename": "TypeError",
          "evalue": "ignored",
          "traceback": [
            "\u001b[0;31m---------------------------------------------------------------------------\u001b[0m",
            "\u001b[0;31mTypeError\u001b[0m                                 Traceback (most recent call last)",
            "\u001b[0;32m<ipython-input-49-dab352bdbb9e>\u001b[0m in \u001b[0;36m<module>\u001b[0;34m()\u001b[0m\n\u001b[0;32m----> 1\u001b[0;31m \u001b[0mspeeds\u001b[0m \u001b[0;34m=\u001b[0m \u001b[0mdistances\u001b[0m\u001b[0;34m/\u001b[0m\u001b[0mtimes\u001b[0m\u001b[0;34m\u001b[0m\u001b[0;34m\u001b[0m\u001b[0m\n\u001b[0m\u001b[1;32m      2\u001b[0m \u001b[0;34m\u001b[0m\u001b[0m\n\u001b[1;32m      3\u001b[0m \u001b[0;31m# Python doesn't allow a list to be divided by a list or list multiplication.\u001b[0m\u001b[0;34m\u001b[0m\u001b[0;34m\u001b[0m\u001b[0;34m\u001b[0m\u001b[0m\n",
            "\u001b[0;31mTypeError\u001b[0m: unsupported operand type(s) for /: 'list' and 'list'"
          ]
        }
      ]
    },
    {
      "cell_type": "markdown",
      "metadata": {
        "id": "NKkZU9m781v5"
      },
      "source": [
        "**Solution** : This is precisely the kind of mathematical operation\n",
        "that we can do with **NumPy**, and this is what we mean when we say\n",
        "vectorization. **Vectorization** means operating on an array, such as object or list, or doing operations element by element."
      ]
    },
    {
      "cell_type": "markdown",
      "metadata": {
        "id": "XlOiJJKf9AVN"
      },
      "source": [
        "# NumPy arrays: creation, methods and attributes"
      ]
    },
    {
      "cell_type": "markdown",
      "metadata": {
        "id": "0U4I13J39KyG"
      },
      "source": [
        "## What is a NumPy array?"
      ]
    },
    {
      "cell_type": "markdown",
      "metadata": {
        "id": "VTYFt2Nu9MM7"
      },
      "source": [
        "NumPy’s main object is the homogeneous multidimensional array. It is a table of elements (usually numbers), all of the same type, indexed by a tuple of positive integers. **In NumPy dimensions are called axes**. The number of axes is the **rank** or **dimension**."
      ]
    },
    {
      "cell_type": "code",
      "metadata": {
        "id": "exoLOVgt8s9A",
        "outputId": "668369bc-f14a-4fd3-994b-08f9f3b26982",
        "colab": {
          "base_uri": "https://localhost:8080/",
          "height": 34
        }
      },
      "source": [
        "import numpy as np\n",
        "\n",
        "# Creating arrays: from lists and using built-in functions\n",
        "# arrays from lists\n",
        "distances = [10, 15, 17, 26, 20]\n",
        "times = [0.3, 0.47, 0.55, 1.20, 1.0]\n",
        "distances = np.array(distances)\n",
        "times = np.array(times)\n",
        "\n",
        "# speeds can be calculated as :\n",
        "print(distances/times)"
      ],
      "execution_count": null,
      "outputs": [
        {
          "output_type": "stream",
          "text": [
            "[33.33333333 31.91489362 30.90909091 21.66666667 20.        ]\n"
          ],
          "name": "stdout"
        }
      ]
    },
    {
      "cell_type": "code",
      "metadata": {
        "id": "iIKvtzCl_lt-",
        "outputId": "34d2183a-f664-476f-d370-55252f4e760f",
        "colab": {
          "base_uri": "https://localhost:8080/",
          "height": 34
        }
      },
      "source": [
        "# second example of numpy array\n",
        "product_quantities = [13, 5, 6, 10, 11]\n",
        "prices = [200, 650, 100, 480, 554]\n",
        "product_quantities = np.array(product_quantities)\n",
        "prices = np.array(prices)\n",
        "\n",
        "#we can find the total_sum as \n",
        "np.sum(product_quantities*prices)"
      ],
      "execution_count": null,
      "outputs": [
        {
          "output_type": "execute_result",
          "data": {
            "text/plain": [
              "17344"
            ]
          },
          "metadata": {
            "tags": []
          },
          "execution_count": 51
        }
      ]
    },
    {
      "cell_type": "markdown",
      "metadata": {
        "id": "sGDS05hEAErk"
      },
      "source": [
        "**Some Simple Examples of creating numpy arrays :**"
      ]
    },
    {
      "cell_type": "code",
      "metadata": {
        "id": "Xznyom1-AQZs",
        "outputId": "d986affb-2771-442f-c1d3-3003b3296df6",
        "colab": {
          "base_uri": "https://localhost:8080/",
          "height": 50
        }
      },
      "source": [
        "# If we pass np.array() a list of lists, it will create a 2-dimensional array. \n",
        "# If pass a list of lists of lists, it will create a 3-dimensional array, and so on and so forth.\n",
        "\n",
        "A = np.array([[1, 2], [3, 4]])\n",
        "A"
      ],
      "execution_count": null,
      "outputs": [
        {
          "output_type": "execute_result",
          "data": {
            "text/plain": [
              "array([[1, 2],\n",
              "       [3, 4]])"
            ]
          },
          "metadata": {
            "tags": []
          },
          "execution_count": 9
        }
      ]
    },
    {
      "cell_type": "code",
      "metadata": {
        "id": "ji7ocVIYAZKG",
        "outputId": "e3d45ec9-ebd3-479a-9109-8121f9ee7e8c",
        "colab": {
          "base_uri": "https://localhost:8080/",
          "height": 34
        }
      },
      "source": [
        "# Create a length-10 integer array filled with zeros\n",
        "np.zeros(10, dtype=int)"
      ],
      "execution_count": null,
      "outputs": [
        {
          "output_type": "execute_result",
          "data": {
            "text/plain": [
              "array([0, 0, 0, 0, 0, 0, 0, 0, 0, 0])"
            ]
          },
          "metadata": {
            "tags": []
          },
          "execution_count": 11
        }
      ]
    },
    {
      "cell_type": "code",
      "metadata": {
        "id": "Vwm9uZzcB0Pq",
        "outputId": "5359db04-0e95-4a09-9709-ee315cc69000",
        "colab": {
          "base_uri": "https://localhost:8080/",
          "height": 67
        }
      },
      "source": [
        "# Create a 3x5 floating-point array filled with ones\n",
        "np.ones(shape=(3, 5), dtype=float)"
      ],
      "execution_count": null,
      "outputs": [
        {
          "output_type": "execute_result",
          "data": {
            "text/plain": [
              "array([[1., 1., 1., 1., 1.],\n",
              "       [1., 1., 1., 1., 1.],\n",
              "       [1., 1., 1., 1., 1.]])"
            ]
          },
          "metadata": {
            "tags": []
          },
          "execution_count": 12
        }
      ]
    },
    {
      "cell_type": "markdown",
      "metadata": {
        "id": "lV9QnkG4CAMp"
      },
      "source": [
        "There are the following two ways to create linear sequences:\n",
        "\n",
        "> **np.arange**\n",
        "\n",
        "> **np.linspace**"
      ]
    },
    {
      "cell_type": "code",
      "metadata": {
        "id": "tC7Rl0lCCCQy",
        "outputId": "b9cbb984-6299-4c65-fd18-e5b5619c5868",
        "colab": {
          "base_uri": "https://localhost:8080/",
          "height": 34
        }
      },
      "source": [
        "# Create an array filled with a linear sequence\n",
        "# Starting at 0, ending at 20, stepping by 2\n",
        "\n",
        "x = np.arange(start=0, stop=20, step=2)\n",
        "x"
      ],
      "execution_count": null,
      "outputs": [
        {
          "output_type": "execute_result",
          "data": {
            "text/plain": [
              "array([ 0,  2,  4,  6,  8, 10, 12, 14, 16, 18])"
            ]
          },
          "metadata": {
            "tags": []
          },
          "execution_count": 6
        }
      ]
    },
    {
      "cell_type": "code",
      "metadata": {
        "id": "Od7gEB7gCTqR",
        "outputId": "11c3a403-6966-4aee-b314-6ab96e362312",
        "colab": {
          "base_uri": "https://localhost:8080/",
          "height": 84
        }
      },
      "source": [
        "# Create an array of 20 values evenly spaced between 0 and 1\n",
        "\n",
        "y = np.linspace(0, 1, 20)\n",
        "y"
      ],
      "execution_count": null,
      "outputs": [
        {
          "output_type": "execute_result",
          "data": {
            "text/plain": [
              "array([0.        , 0.05263158, 0.10526316, 0.15789474, 0.21052632,\n",
              "       0.26315789, 0.31578947, 0.36842105, 0.42105263, 0.47368421,\n",
              "       0.52631579, 0.57894737, 0.63157895, 0.68421053, 0.73684211,\n",
              "       0.78947368, 0.84210526, 0.89473684, 0.94736842, 1.        ])"
            ]
          },
          "metadata": {
            "tags": []
          },
          "execution_count": 7
        }
      ]
    },
    {
      "cell_type": "markdown",
      "metadata": {
        "id": "MgcVX_5tFxG2"
      },
      "source": [
        "**Some attributes of arrays**"
      ]
    },
    {
      "cell_type": "code",
      "metadata": {
        "id": "G9uYudLzCWPs",
        "outputId": "9051ca86-5a90-45c8-aa32-32ce5569af5b",
        "colab": {
          "base_uri": "https://localhost:8080/",
          "height": 252
        }
      },
      "source": [
        "A = np.ones(shape=(3, 4, 2))\n",
        "A\n",
        "# default dtype is float"
      ],
      "execution_count": null,
      "outputs": [
        {
          "output_type": "execute_result",
          "data": {
            "text/plain": [
              "array([[[1., 1.],\n",
              "        [1., 1.],\n",
              "        [1., 1.],\n",
              "        [1., 1.]],\n",
              "\n",
              "       [[1., 1.],\n",
              "        [1., 1.],\n",
              "        [1., 1.],\n",
              "        [1., 1.]],\n",
              "\n",
              "       [[1., 1.],\n",
              "        [1., 1.],\n",
              "        [1., 1.],\n",
              "        [1., 1.]]])"
            ]
          },
          "metadata": {
            "tags": []
          },
          "execution_count": 15
        }
      ]
    },
    {
      "cell_type": "code",
      "metadata": {
        "id": "plJvhkP2F50M",
        "outputId": "5cccfbc3-791c-4c65-b7d2-3f7fef5ce6d3",
        "colab": {
          "base_uri": "https://localhost:8080/",
          "height": 34
        }
      },
      "source": [
        "A.ndim   # ndim means the no. of dimensions"
      ],
      "execution_count": null,
      "outputs": [
        {
          "output_type": "execute_result",
          "data": {
            "text/plain": [
              "3"
            ]
          },
          "metadata": {
            "tags": []
          },
          "execution_count": 16
        }
      ]
    },
    {
      "cell_type": "code",
      "metadata": {
        "id": "xmPCFtCQGNf3",
        "outputId": "5d28ead1-e794-437b-87ba-22e90db91a61",
        "colab": {
          "base_uri": "https://localhost:8080/",
          "height": 34
        }
      },
      "source": [
        "A.shape   # indicates the total dimensions of the array. So we have 3 arrays each of (4 by 2)"
      ],
      "execution_count": null,
      "outputs": [
        {
          "output_type": "execute_result",
          "data": {
            "text/plain": [
              "(3, 4, 2)"
            ]
          },
          "metadata": {
            "tags": []
          },
          "execution_count": 17
        }
      ]
    },
    {
      "cell_type": "code",
      "metadata": {
        "id": "rEqDWCDlGRLi",
        "outputId": "c28fd20d-09b6-46c4-da9b-b90714314baa",
        "colab": {
          "base_uri": "https://localhost:8080/",
          "height": 34
        }
      },
      "source": [
        "A.size  # total no. of elements"
      ],
      "execution_count": null,
      "outputs": [
        {
          "output_type": "execute_result",
          "data": {
            "text/plain": [
              "24"
            ]
          },
          "metadata": {
            "tags": []
          },
          "execution_count": 18
        }
      ]
    },
    {
      "cell_type": "markdown",
      "metadata": {
        "id": "qS0xLwl1nRso"
      },
      "source": [
        "<font color='green'><h3><b> Wait a minute... </b></h3></font>\n",
        "\n",
        "Would you like to watch a Video on **How NumPy is better than a simple List ?**\n",
        "\n",
        "\n",
        "<a href=\"https://drive.google.com/open?id=1VhPvWuNEiYYhBKvwCLeHWfsICB0tFuW1\">\n",
        "  <img src=\"https://drive.google.com/uc?id=14OOsd0HaKoMJjqu5YT5n7-HsvE6UVV7z\" alt=\"How NumPy is better than a simple List\" width=\"130\" height=\"70\">\n",
        "</a>\n",
        "\n",
        "<font color='green'><h3><b>Or you may like to watch </b></h3></font>\n",
        "**Why NumPy is faster for Math operations ?**\n",
        "\n",
        "<a href=\"https://drive.google.com/open?id=14yGEpXkUi6VSliRa-ORmUxtENCyP2LeE\">\n",
        "  <img src=\"https://drive.google.com/uc?id=14OOsd0HaKoMJjqu5YT5n7-HsvE6UVV7z\" alt=\"How NumPy is better than a simple List\" width=\"130\" height=\"70\">\n",
        "</a>"
      ]
    },
    {
      "cell_type": "markdown",
      "metadata": {
        "id": "fHJlzuUmG-ZT"
      },
      "source": [
        "**Basic math with arrays**\n"
      ]
    },
    {
      "cell_type": "code",
      "metadata": {
        "id": "RCGIhDyOH2eV",
        "outputId": "45d9014e-895f-4ba9-9c32-7ec5369ae5a1",
        "colab": {
          "base_uri": "https://localhost:8080/",
          "height": 34
        }
      },
      "source": [
        "x + 1"
      ],
      "execution_count": null,
      "outputs": [
        {
          "output_type": "execute_result",
          "data": {
            "text/plain": [
              "array([ 1,  3,  5,  7,  9, 11, 13, 15, 17, 19])"
            ]
          },
          "metadata": {
            "tags": []
          },
          "execution_count": 8
        }
      ]
    },
    {
      "cell_type": "code",
      "metadata": {
        "id": "H2zqS_UtH5rE",
        "outputId": "dbdd85b0-4b8f-486e-8350-6c27146e0b8f",
        "colab": {
          "base_uri": "https://localhost:8080/",
          "height": 34
        }
      },
      "source": [
        "x * 2"
      ],
      "execution_count": null,
      "outputs": [
        {
          "output_type": "execute_result",
          "data": {
            "text/plain": [
              "array([ 0,  4,  8, 12, 16, 20, 24, 28, 32, 36])"
            ]
          },
          "metadata": {
            "tags": []
          },
          "execution_count": 9
        }
      ]
    },
    {
      "cell_type": "code",
      "metadata": {
        "id": "4hHW-JS3H8x1",
        "outputId": "6e9a2d44-f05e-431a-9d82-75fcdc10e324",
        "colab": {
          "base_uri": "https://localhost:8080/",
          "height": 34
        }
      },
      "source": [
        "x/2\n",
        "\n",
        "## if u wish to convert the numpy float array into an int array\n",
        "#x.astype(np.int)"
      ],
      "execution_count": null,
      "outputs": [
        {
          "output_type": "execute_result",
          "data": {
            "text/plain": [
              "array([0., 1., 2., 3., 4., 5., 6., 7., 8., 9.])"
            ]
          },
          "metadata": {
            "tags": []
          },
          "execution_count": 18
        }
      ]
    },
    {
      "cell_type": "markdown",
      "metadata": {
        "id": "FKFACrXlIJGJ"
      },
      "source": [
        "<font color='green'><b>Universal Functions</b></font><br>\n",
        "Another very useful thing about NumPy is that it provides us with what is\n",
        "called universal functions. **Universal functions** are mathematical functions\n",
        "that we can use in arrays, and when we use these functions in arrays, it will\n",
        "be applied element by element.\n"
      ]
    },
    {
      "cell_type": "code",
      "metadata": {
        "id": "Oh0D1y4QIVxj",
        "outputId": "1252e65d-dfd5-4ad7-965a-185e2d287914",
        "colab": {
          "base_uri": "https://localhost:8080/",
          "height": 50
        }
      },
      "source": [
        "# Universal functions\n",
        "np.sin(x)\n",
        "## np.cos(x)\n",
        "## np.tan(x)\n",
        "\n",
        "## Interested to look at the list of all Trigonometric functions : \n",
        "## https://www.w3schools.com/python/numpy_ufunc_trigonometric.asp "
      ],
      "execution_count": null,
      "outputs": [
        {
          "output_type": "execute_result",
          "data": {
            "text/plain": [
              "array([ 0.        , -2.18503986,  1.15782128, -0.29100619, -6.79971146,\n",
              "        0.64836083, -0.63585993,  7.24460662,  0.30063224, -1.13731371])"
            ]
          },
          "metadata": {
            "tags": []
          },
          "execution_count": 21
        }
      ]
    },
    {
      "cell_type": "code",
      "metadata": {
        "id": "nHusnuVrIeFj",
        "outputId": "c4181798-0b2e-4329-f727-2ed78f34d915",
        "colab": {
          "base_uri": "https://localhost:8080/",
          "height": 67
        }
      },
      "source": [
        "# np.exp(x) -> The exponential function is e^x where e is a mathematical \n",
        "# constant called Euler's number, approximately 2.718281\n",
        "np.exp(x)\n",
        "\n",
        "# https://stackoverflow.com/questions/31951980/what-exactly-does-numpy-exp-do\n"
      ],
      "execution_count": null,
      "outputs": [
        {
          "output_type": "execute_result",
          "data": {
            "text/plain": [
              "array([1.00000000e+00, 7.38905610e+00, 5.45981500e+01, 4.03428793e+02,\n",
              "       2.98095799e+03, 2.20264658e+04, 1.62754791e+05, 1.20260428e+06,\n",
              "       8.88611052e+06, 6.56599691e+07])"
            ]
          },
          "metadata": {
            "tags": []
          },
          "execution_count": 22
        }
      ]
    },
    {
      "cell_type": "code",
      "metadata": {
        "id": "fQ48swB2Isxb",
        "outputId": "caa719ed-0886-43df-ab05-356e8b2eefe5",
        "colab": {
          "base_uri": "https://localhost:8080/",
          "height": 50
        }
      },
      "source": [
        "np.log(x+1)\n",
        "\n",
        "# why we add one , when taking log ?\n",
        "# Log 0 is undefined. The result is not a real number, \n",
        "# because you can never get zero by raising anything to the power of \n",
        "# anything else. You can never reach zero, you can only approach it \n",
        "# using an infinitely large and negative power. \n",
        "# The real logarithmic function logb(x) is defined only for x>0"
      ],
      "execution_count": null,
      "outputs": [
        {
          "output_type": "execute_result",
          "data": {
            "text/plain": [
              "array([0.        , 1.09861229, 1.60943791, 1.94591015, 2.19722458,\n",
              "       2.39789527, 2.56494936, 2.7080502 , 2.83321334, 2.94443898])"
            ]
          },
          "metadata": {
            "tags": []
          },
          "execution_count": 23
        }
      ]
    },
    {
      "cell_type": "code",
      "metadata": {
        "id": "6ifK9C24JF3V",
        "outputId": "30df4b0d-5ad1-4216-94ff-963293dfd109",
        "colab": {
          "base_uri": "https://localhost:8080/",
          "height": 50
        }
      },
      "source": [
        "np.sqrt(x)"
      ],
      "execution_count": null,
      "outputs": [
        {
          "output_type": "execute_result",
          "data": {
            "text/plain": [
              "array([0.        , 1.41421356, 2.        , 2.44948974, 2.82842712,\n",
              "       3.16227766, 3.46410162, 3.74165739, 4.        , 4.24264069])"
            ]
          },
          "metadata": {
            "tags": []
          },
          "execution_count": 24
        }
      ]
    },
    {
      "cell_type": "code",
      "metadata": {
        "id": "NSPsOmDSI2Z2",
        "outputId": "49837cae-d958-4870-84b8-0b323b0f2b07",
        "colab": {
          "base_uri": "https://localhost:8080/",
          "height": 50
        }
      },
      "source": [
        "## To multiply two matrices, the dot function can be used\n",
        "\n",
        "X = np.array(([1,2,3], [4,5,6]))\n",
        "\n",
        "Y = np.array(([1,2], [4,5], [7,8]))\n",
        "\n",
        "Z = np.dot(X, Y)\n",
        "\n",
        "print(Z)"
      ],
      "execution_count": null,
      "outputs": [
        {
          "output_type": "stream",
          "text": [
            "[[30 36]\n",
            " [66 81]]\n"
          ],
          "name": "stdout"
        }
      ]
    },
    {
      "cell_type": "code",
      "metadata": {
        "id": "k0gaerq4Jr3d",
        "outputId": "b98e7b05-9b40-42ab-f73c-8e96252dbe65",
        "colab": {
          "base_uri": "https://localhost:8080/",
          "height": 50
        }
      },
      "source": [
        "## Another very useful matrix operation is finding the inverse of a matrix. \n",
        "## The NumPy library contains the ìnv function in the linalg module\n",
        "\n",
        "Y = np.array(([1,2], [3,4]))\n",
        "Z = np.linalg.inv(Y)\n",
        "print(Z)\n",
        "\n",
        "## Note : To find the inverse of a 2x2 matrix: swap the positions of a and d, \n",
        "##        put negatives in front of b and c, and divide everything by the determinant (ad-bc)."
      ],
      "execution_count": null,
      "outputs": [
        {
          "output_type": "stream",
          "text": [
            "[[-2.   1. ]\n",
            " [ 1.5 -0.5]]\n"
          ],
          "name": "stdout"
        }
      ]
    },
    {
      "cell_type": "code",
      "metadata": {
        "id": "bQF6HLolLHoY",
        "outputId": "07657a76-7f4b-4ca2-8c1b-671d8c23e236",
        "colab": {
          "base_uri": "https://localhost:8080/",
          "height": 50
        }
      },
      "source": [
        "## The determinant of a matrix can be calculated using the det method\n",
        "\n",
        "X1 = np.array(([1,2,3], [4,5,6], [7,8,9]))\n",
        "Z1 = np.linalg.det(X1)\n",
        "print(Z1)\n",
        "\n",
        "## Note : A matrix is an array of many numbers. \n",
        "## For a square matrix, i.e., a matrix with the same number of rows and columns, \n",
        "## one can capture important information about the matrix in a just single number, called the determinant.\n",
        "\n",
        "## How to find determinant ?\n",
        "## see here : https://www.mathsisfun.com/algebra/matrix-determinant.html\n",
        "\n",
        "X2 = np.array(([1,4,7], [2,5,8], [3,6,9]))\n",
        "Z2 = np.linalg.det(X2)\n",
        "print(Z2)\n",
        "\n",
        "## Note : contents of both matrices with just rows & columns\n",
        "#         interchanged , have same determinant.\n",
        "# This feature really helps in comparing parts of Images. "
      ],
      "execution_count": null,
      "outputs": [
        {
          "output_type": "stream",
          "text": [
            "0.0\n",
            "0.0\n"
          ],
          "name": "stdout"
        }
      ]
    },
    {
      "cell_type": "markdown",
      "metadata": {
        "id": "T913zR_pJk0G"
      },
      "source": [
        "## Common manipulations: indexing, slicing and reshaping"
      ]
    },
    {
      "cell_type": "markdown",
      "metadata": {
        "id": "jPGLqrYDJo14"
      },
      "source": [
        "**Indexing:** Getting and setting the value of individual array elements"
      ]
    },
    {
      "cell_type": "code",
      "metadata": {
        "id": "gz5q1mpmKGeG",
        "outputId": "98170c77-993b-4379-90d5-4e07035b21a6",
        "colab": {
          "base_uri": "https://localhost:8080/",
          "height": 50
        }
      },
      "source": [
        "one_dim = np.linspace(-0.5, 0.6, 12)\n",
        "one_dim"
      ],
      "execution_count": null,
      "outputs": [
        {
          "output_type": "execute_result",
          "data": {
            "text/plain": [
              "array([-0.5, -0.4, -0.3, -0.2, -0.1,  0. ,  0.1,  0.2,  0.3,  0.4,  0.5,\n",
              "        0.6])"
            ]
          },
          "metadata": {
            "tags": []
          },
          "execution_count": 30
        }
      ]
    },
    {
      "cell_type": "code",
      "metadata": {
        "id": "h3d2vx63KNoL",
        "outputId": "d543af41-9936-4cd7-eca8-ffc015193894",
        "colab": {
          "base_uri": "https://localhost:8080/",
          "height": 34
        }
      },
      "source": [
        "one_dim[5]  # accessing 5th element"
      ],
      "execution_count": null,
      "outputs": [
        {
          "output_type": "execute_result",
          "data": {
            "text/plain": [
              "0.0"
            ]
          },
          "metadata": {
            "tags": []
          },
          "execution_count": 31
        }
      ]
    },
    {
      "cell_type": "code",
      "metadata": {
        "id": "4CCAV_mAKR3q",
        "outputId": "320e8295-349a-4901-9fee-f93922bc8b4d",
        "colab": {
          "base_uri": "https://localhost:8080/",
          "height": 50
        }
      },
      "source": [
        "one_dim[0] = 1  # setting the 0th element to 1\n",
        "one_dim"
      ],
      "execution_count": null,
      "outputs": [
        {
          "output_type": "execute_result",
          "data": {
            "text/plain": [
              "array([ 1. , -0.4, -0.3, -0.2, -0.1,  0. ,  0.1,  0.2,  0.3,  0.4,  0.5,\n",
              "        0.6])"
            ]
          },
          "metadata": {
            "tags": []
          },
          "execution_count": 32
        }
      ]
    },
    {
      "cell_type": "code",
      "metadata": {
        "id": "hr_IYWNcKady",
        "outputId": "c5eb9f2b-2207-40f9-b3ff-cd617f804d5e",
        "colab": {
          "base_uri": "https://localhost:8080/",
          "height": 67
        }
      },
      "source": [
        "two_dim = np.array([[3, 5, 2, 4], [7, 6, 5, 5], [1, 6, -1, -1]])\n",
        "two_dim"
      ],
      "execution_count": null,
      "outputs": [
        {
          "output_type": "execute_result",
          "data": {
            "text/plain": [
              "array([[ 3,  5,  2,  4],\n",
              "       [ 7,  6,  5,  5],\n",
              "       [ 1,  6, -1, -1]])"
            ]
          },
          "metadata": {
            "tags": []
          },
          "execution_count": 34
        }
      ]
    },
    {
      "cell_type": "code",
      "metadata": {
        "id": "9KAbv7e2KmvP",
        "outputId": "273ce195-064b-4b99-8768-40c0caa08acb",
        "colab": {
          "base_uri": "https://localhost:8080/",
          "height": 34
        }
      },
      "source": [
        "two_dim[0,3]  # accessing 0th row , 3rd column element"
      ],
      "execution_count": null,
      "outputs": [
        {
          "output_type": "execute_result",
          "data": {
            "text/plain": [
              "4"
            ]
          },
          "metadata": {
            "tags": []
          },
          "execution_count": 35
        }
      ]
    },
    {
      "cell_type": "code",
      "metadata": {
        "id": "mqowv7C1KsxV",
        "outputId": "6d8348e1-8050-4977-acf2-4e338ec060c1",
        "colab": {
          "base_uri": "https://localhost:8080/",
          "height": 67
        }
      },
      "source": [
        "two_dim[0,0] = -1  # setting the 0th row , 0th column element\n",
        "two_dim"
      ],
      "execution_count": null,
      "outputs": [
        {
          "output_type": "execute_result",
          "data": {
            "text/plain": [
              "array([[-1,  5,  2,  4],\n",
              "       [ 7,  6,  5,  5],\n",
              "       [ 1,  6, -1, -1]])"
            ]
          },
          "metadata": {
            "tags": []
          },
          "execution_count": 36
        }
      ]
    },
    {
      "cell_type": "markdown",
      "metadata": {
        "id": "ndvhGKURNkdD"
      },
      "source": [
        "**Slicing:** Getting and setting smaller subarrays within a larger array"
      ]
    },
    {
      "cell_type": "code",
      "metadata": {
        "id": "sVk7MEt5K0qL",
        "outputId": "c5b09fae-4ddd-4f85-82f5-90dee9a7ecd7",
        "colab": {
          "base_uri": "https://localhost:8080/",
          "height": 84
        }
      },
      "source": [
        "print(one_dim)\n",
        "\n",
        "print(one_dim[2:5]) # start from index 2 upto index 5-1 =>i.e elements at index 2,3,4 \n",
        "\n",
        "print(one_dim[:5]) # start to 5-1\n",
        "\n",
        "print(one_dim[-5:]) # last-5 to last "
      ],
      "execution_count": null,
      "outputs": [
        {
          "output_type": "stream",
          "text": [
            "[ 1.  -0.4 -0.3 -0.2 -0.1  0.   0.1  0.2  0.3  0.4  0.5  0.6]\n",
            "[-0.3 -0.2 -0.1]\n",
            "[ 1.  -0.4 -0.3 -0.2 -0.1]\n",
            "[0.2 0.3 0.4 0.5 0.6]\n"
          ],
          "name": "stdout"
        }
      ]
    },
    {
      "cell_type": "code",
      "metadata": {
        "id": "OObfviaJOF3H",
        "outputId": "81b89070-7b2b-446b-f0aa-a48352df8493",
        "colab": {
          "base_uri": "https://localhost:8080/",
          "height": 101
        }
      },
      "source": [
        "print(two_dim)\n",
        "\n",
        "print(two_dim[:2,:2])  # from 0th to 1st row, from 0th to 1st column"
      ],
      "execution_count": null,
      "outputs": [
        {
          "output_type": "stream",
          "text": [
            "[[-1  5  2  4]\n",
            " [ 7  6  5  5]\n",
            " [ 1  6 -1 -1]]\n",
            "[[-1  5]\n",
            " [ 7  6]]\n"
          ],
          "name": "stdout"
        }
      ]
    },
    {
      "cell_type": "code",
      "metadata": {
        "id": "zqJWeHCpOkTn",
        "outputId": "1c775a1f-05ff-4929-dc5d-3b3e69b1d872",
        "colab": {
          "base_uri": "https://localhost:8080/",
          "height": 67
        }
      },
      "source": [
        "two_dim[:,1:3] # accessing all rows and only columns from 1 to 2 "
      ],
      "execution_count": null,
      "outputs": [
        {
          "output_type": "execute_result",
          "data": {
            "text/plain": [
              "array([[ 5,  2],\n",
              "       [ 6,  5],\n",
              "       [ 6, -1]])"
            ]
          },
          "metadata": {
            "tags": []
          },
          "execution_count": 40
        }
      ]
    },
    {
      "cell_type": "markdown",
      "metadata": {
        "id": "dcQYVY-LO5nJ"
      },
      "source": [
        "**Reshaping of arrays:**\n",
        "\n",
        "Changing the shape of a given array\n",
        "Reshaping arrays changes an array from one dimension to another dimension. For example, ***one-dimension to two-dimension, one-dimension to three-dimension, and three-dimension to two-dimension.***"
      ]
    },
    {
      "cell_type": "code",
      "metadata": {
        "id": "me8YILBrO1SZ",
        "outputId": "611e4480-3264-4472-ee7b-f057cf5921ec",
        "colab": {
          "base_uri": "https://localhost:8080/",
          "height": 50
        }
      },
      "source": [
        "one_dim"
      ],
      "execution_count": null,
      "outputs": [
        {
          "output_type": "execute_result",
          "data": {
            "text/plain": [
              "array([ 1. , -0.4, -0.3, -0.2, -0.1,  0. ,  0.1,  0.2,  0.3,  0.4,  0.5,\n",
              "        0.6])"
            ]
          },
          "metadata": {
            "tags": []
          },
          "execution_count": 41
        }
      ]
    },
    {
      "cell_type": "code",
      "metadata": {
        "id": "gVSF-DeoPFry",
        "outputId": "41663f78-5d6a-4a4b-fda4-a9078546f768",
        "colab": {
          "base_uri": "https://localhost:8080/",
          "height": 50
        }
      },
      "source": [
        "one_dim.reshape(2,6) # reshaped a 1-dimension array into 2D array with 2 rows , 6 columns "
      ],
      "execution_count": null,
      "outputs": [
        {
          "output_type": "execute_result",
          "data": {
            "text/plain": [
              "array([[ 1. , -0.4, -0.3, -0.2, -0.1,  0. ],\n",
              "       [ 0.1,  0.2,  0.3,  0.4,  0.5,  0.6]])"
            ]
          },
          "metadata": {
            "tags": []
          },
          "execution_count": 42
        }
      ]
    },
    {
      "cell_type": "code",
      "metadata": {
        "id": "pZSGmLcbPZH8",
        "outputId": "8eefb697-d113-4ddb-cfe8-9dcbc37826b8",
        "colab": {
          "base_uri": "https://localhost:8080/",
          "height": 67
        }
      },
      "source": [
        "two_dim"
      ],
      "execution_count": null,
      "outputs": [
        {
          "output_type": "execute_result",
          "data": {
            "text/plain": [
              "array([[-1,  5,  2,  4],\n",
              "       [ 7,  6,  5,  5],\n",
              "       [ 1,  6, -1, -1]])"
            ]
          },
          "metadata": {
            "tags": []
          },
          "execution_count": 43
        }
      ]
    },
    {
      "cell_type": "code",
      "metadata": {
        "id": "Jb8750pRQbw4",
        "outputId": "e2d4c5c5-ca17-4363-9a39-b7dbf981ecc0",
        "colab": {
          "base_uri": "https://localhost:8080/",
          "height": 34
        }
      },
      "source": [
        "two_dim.flatten()"
      ],
      "execution_count": null,
      "outputs": [
        {
          "output_type": "execute_result",
          "data": {
            "text/plain": [
              "array([-1,  5,  2,  4,  7,  6,  5,  5,  1,  6, -1, -1])"
            ]
          },
          "metadata": {
            "tags": []
          },
          "execution_count": 44
        }
      ]
    },
    {
      "cell_type": "markdown",
      "metadata": {
        "id": "Is1WCL5mQwXN"
      },
      "source": [
        "**Example: Performing a simulation**\n",
        "--\n",
        "\n",
        "Now let's learn **how to use NumPy in a real-world scenario**. Here, we will cover two examples of simulations using NumPy, and in the process, we will also learn about other operations that we can do with arrays.\n",
        "\n",
        "<h3><font color='green'><b>Coin flips</b></font></h3>\n"
      ]
    },
    {
      "cell_type": "code",
      "metadata": {
        "id": "H_oknnufQ5DB",
        "outputId": "96454ea5-3be2-4eab-c030-b89149970324",
        "colab": {
          "base_uri": "https://localhost:8080/",
          "height": 34
        }
      },
      "source": [
        "# throwing a coin 1 time: 0 is tail, 1 heads\n",
        "np.random.randint(low=0, high=2, size=1)  # so may get a different value , each time you run"
      ],
      "execution_count": null,
      "outputs": [
        {
          "output_type": "execute_result",
          "data": {
            "text/plain": [
              "array([0])"
            ]
          },
          "metadata": {
            "tags": []
          },
          "execution_count": 45
        }
      ]
    },
    {
      "cell_type": "code",
      "metadata": {
        "id": "Foi3d60XRPF8"
      },
      "source": [
        "# throwing a coin 10 times: 0 is tail, 1 heads\n",
        "\n",
        "\n",
        "\n"
      ],
      "execution_count": null,
      "outputs": []
    },
    {
      "cell_type": "code",
      "metadata": {
        "id": "rXJmuhAARiF4",
        "outputId": "f1beb3dc-d847-480e-c6c9-a1dc156dc59d",
        "colab": {
          "base_uri": "https://localhost:8080/",
          "height": 101
        }
      },
      "source": [
        "# Each column of this matrix will be one 10-tosses simulation\n",
        "coin_matrix = np.random.randint(0,2,size=(10000,10))   \n",
        "# so we have 10000 experiments i.e 10000 rows each of 10 tosses\n",
        "\n",
        "coin_matrix[:5,:]  # I am printing only 1st 5 experiments i.e first 5 rows"
      ],
      "execution_count": null,
      "outputs": [
        {
          "output_type": "execute_result",
          "data": {
            "text/plain": [
              "array([[0, 1, 0, 1, 0, 0, 1, 1, 1, 0],\n",
              "       [0, 0, 1, 0, 0, 0, 0, 0, 1, 0],\n",
              "       [1, 1, 1, 1, 1, 0, 0, 0, 1, 1],\n",
              "       [0, 0, 0, 1, 1, 1, 0, 1, 1, 0],\n",
              "       [0, 1, 0, 1, 1, 0, 1, 0, 0, 0]])"
            ]
          },
          "metadata": {
            "tags": []
          },
          "execution_count": 47
        }
      ]
    },
    {
      "cell_type": "markdown",
      "metadata": {
        "id": "TFHcYpcpUukw"
      },
      "source": [
        "To calculate how many heads we got in every experiment, we can use the sum attribute, but in this case, we want to sum all the rows. To sum all the rows in NumPy, we use the additional arguments, axis and **set axis=1**; this will give you an array with a count of how many heads you get in every experiment:"
      ]
    },
    {
      "cell_type": "code",
      "metadata": {
        "id": "iCMTo8uyTqXf",
        "outputId": "430b2709-59ef-4066-9187-a0a7f00b50da",
        "colab": {
          "base_uri": "https://localhost:8080/",
          "height": 101
        }
      },
      "source": [
        "# Note : experiment is outcome of flipping 10 coins\n",
        "counts = coin_matrix.sum(axis=1)  # axis = 1 means row wise. default is column wise\n",
        "print(counts[:25])\n",
        "\n",
        "print(counts.mean()) # average of heads in all the experiments.\n",
        "\n",
        "print(np.median(counts)) # median is the center point in a sorted list\n",
        "\n",
        "print(counts.min(), counts.max())\n",
        "\n",
        "print(counts.std())  # standard deviation of the array counts."
      ],
      "execution_count": null,
      "outputs": [
        {
          "output_type": "stream",
          "text": [
            "[5 2 7 5 4 6 8 6 6 4 4 3 4 4 3 5 4 6 6 3 6 5 5 8 6]\n",
            "4.9794\n",
            "5.0\n",
            "0 10\n",
            "1.5785992651715\n"
          ],
          "name": "stdout"
        }
      ]
    },
    {
      "cell_type": "markdown",
      "metadata": {
        "id": "cS2-yLmwXz9r"
      },
      "source": [
        "**The distribution of the number of heads that you get in the experiment.**"
      ]
    },
    {
      "cell_type": "code",
      "metadata": {
        "id": "R5TZwoxBYBbS",
        "outputId": "e0264bd0-0a29-4840-c80e-ae8e93763f50",
        "colab": {
          "base_uri": "https://localhost:8080/",
          "height": 34
        }
      },
      "source": [
        "np.bincount(counts)"
      ],
      "execution_count": null,
      "outputs": [
        {
          "output_type": "execute_result",
          "data": {
            "text/plain": [
              "array([   9,   92,  422, 1242, 2095, 2440, 2013, 1149,  424,  101,   13])"
            ]
          },
          "metadata": {
            "tags": []
          },
          "execution_count": 49
        }
      ]
    },
    {
      "cell_type": "code",
      "metadata": {
        "id": "Yirn0pIjZt71",
        "outputId": "d912906f-d5fa-4bb2-faf6-8309398671f7",
        "colab": {
          "base_uri": "https://localhost:8080/",
          "height": 235
        }
      },
      "source": [
        "unique_numbers = np.arange(0,11) # The numbers that were observed in the counts vector\n",
        "observed_times = np.bincount(counts) # Check out the documentation for the np.bincount function\n",
        "print(\"===============\\n\")\n",
        "for n, count in zip(unique_numbers, observed_times):\n",
        "    print(\"{} heads observed {} times ({:0.1f}%)\".format(n, count, 100*count/10000))"
      ],
      "execution_count": null,
      "outputs": [
        {
          "output_type": "stream",
          "text": [
            "===============\n",
            "\n",
            "0 heads observed 9 times (0.1%)\n",
            "1 heads observed 92 times (0.9%)\n",
            "2 heads observed 422 times (4.2%)\n",
            "3 heads observed 1242 times (12.4%)\n",
            "4 heads observed 2095 times (20.9%)\n",
            "5 heads observed 2440 times (24.4%)\n",
            "6 heads observed 2013 times (20.1%)\n",
            "7 heads observed 1149 times (11.5%)\n",
            "8 heads observed 424 times (4.2%)\n",
            "9 heads observed 101 times (1.0%)\n",
            "10 heads observed 13 times (0.1%)\n"
          ],
          "name": "stdout"
        }
      ]
    },
    {
      "cell_type": "markdown",
      "metadata": {
        "id": "I5dahS_zZ5YG"
      },
      "source": [
        "<h3><font color='green'><b>Simulating Stock Returns</b></font></h3>\n",
        "\n",
        "Now let's look into another simulation example from the ***field of finance using the matplotlib NumPy library***. \n",
        "\n",
        "Let's say **we want to model the returns for a stock** with the normal distribution. So, here we can use the <u><b>normal</b></u> function to produce random numbers that are normally distributed. \n",
        "\n",
        "> In the normal function, we have the **loc parameter**, the **scale parameter**, also known as the standard deviation, and the parameter that holds the value of random numbers that we want. Here, the random parameter is the number of days in a trading year:"
      ]
    },
    {
      "cell_type": "code",
      "metadata": {
        "id": "yn8opkb-Z0vV"
      },
      "source": [
        "import matplotlib.pyplot as plt\n",
        "%matplotlib inline    \n",
        "# you would study matplotlib in a later Notebook.\n",
        "# but we are importing this to draw some 2d graphs"
      ],
      "execution_count": null,
      "outputs": []
    },
    {
      "cell_type": "code",
      "metadata": {
        "id": "g2QXxILPbVPk"
      },
      "source": [
        "returns = np.random.normal(0.001, 0.02, 250)\n",
        "# np.random.normal( loc, scale, size )\n",
        "# loc : float,  Mean (“centre”) of the distribution. \n",
        "# scale : float,  Standard deviation (spread or “width”) of the distribution.\n",
        "# size : int or tuple of ints, optional"
      ],
      "execution_count": 23,
      "outputs": []
    },
    {
      "cell_type": "code",
      "metadata": {
        "id": "AdDZdZCmbmvc",
        "outputId": "8c1acb97-e212-4de6-83cc-08cccc4ff31a",
        "colab": {
          "base_uri": "https://localhost:8080/",
          "height": 85
        }
      },
      "source": [
        "returns[:20]  # Note : as values are randomly generated. hence it some what reflects a market up and down.\n",
        "              # u would notice some +ve and some -ve values.      "
      ],
      "execution_count": 24,
      "outputs": [
        {
          "output_type": "execute_result",
          "data": {
            "text/plain": [
              "array([-0.00068248, -0.03078117,  0.01015886, -0.0241513 , -0.00908369,\n",
              "        0.04029499, -0.02369933, -0.01880148, -0.02095741, -0.02644149,\n",
              "       -0.01885417, -0.0417038 , -0.02638697, -0.00083257,  0.01494813,\n",
              "        0.01039187, -0.0210414 ,  0.02284007,  0.03492033, -0.02682386])"
            ]
          },
          "metadata": {
            "tags": []
          },
          "execution_count": 24
        }
      ]
    },
    {
      "cell_type": "code",
      "metadata": {
        "id": "mAJExiX5cIi9",
        "outputId": "f3d2dc9d-ffeb-4a3e-ca0d-030d8ed6604a",
        "colab": {
          "base_uri": "https://localhost:8080/",
          "height": 799
        }
      },
      "source": [
        "initial_price = 10\n",
        "price = initial_price*np.exp(returns.cumsum())\n",
        "# here cumsum is the cumalative sum\n",
        "# https://stackoverflow.com/questions/9258602/elegant-pythonic-cumsum\n",
        "\n",
        "print(price)\n",
        "print(\"------------------------------------------------\")\n",
        "print(\"max price point \", price.max())\n",
        "print(\"------------------------------------------------\")\n",
        "print(\"minimum price point \", price.min())"
      ],
      "execution_count": 25,
      "outputs": [
        {
          "output_type": "stream",
          "text": [
            "[ 9.99317754  9.69026178  9.78920555  9.55561565  9.46920844  9.85856194\n",
            "  9.62766742  9.4483441   9.25239177  9.01095082  8.84264845  8.4814602\n",
            "  8.26058707  8.25371238  8.37801669  8.46553387  8.28926817  8.48077432\n",
            "  8.78215735  8.54971739  8.79158533  8.80659386  8.80636941  8.80281248\n",
            "  8.55215898  8.52173991  8.45501057  8.66313084  8.70963518  8.53845467\n",
            "  8.59456212  8.5657115   8.60333096  8.60479305  8.61318474  8.41746476\n",
            "  8.35047278  8.43310913  8.53107042  8.45094831  8.34451144  8.45366771\n",
            "  8.69385458  9.14138389  8.70291435  8.4685253   8.69548724  8.61033216\n",
            "  8.55149855  8.64655961  8.65633119  8.47663143  8.49054156  8.59398238\n",
            "  8.52718348  8.73148679  8.62924055  8.62313857  8.4497737   8.69973596\n",
            "  8.77496269  9.12454107  9.24504476  8.97170873  9.08009968  8.88075646\n",
            "  9.16213076  9.14597445  9.15864468  9.03528539  9.17457114  9.15374549\n",
            "  9.18636081  8.74673525  8.72421475  8.76846337  8.94000666  8.85030129\n",
            "  8.67056822  8.48989752  8.51621002  8.6623939   8.5359021   8.5405147\n",
            "  8.49618037  8.17308525  8.39800524  8.67979214  8.23033329  8.3023064\n",
            "  8.29369398  8.4523392   8.5270658   8.68479869  8.91519054  8.94883791\n",
            "  9.11341748  9.19401996  8.94033915  9.12728292  9.26321834  9.59952339\n",
            "  9.63406015  9.34935657  9.19018186  9.45055225  9.55819311  9.70296918\n",
            "  9.69056649  9.91098995 10.00554999 10.09848679 10.00870165  9.82970729\n",
            "  9.94029445  9.98770847 10.21432067 10.40854943 10.10553117 10.2076075\n",
            " 10.5231301  10.71779316 10.62346253 10.72153903 10.90731061 10.81060785\n",
            " 10.95035143 11.28632701 10.78231713 10.83833862 11.25673863 11.45822654\n",
            " 11.56022852 11.97918681 12.25798144 12.19475502 12.16039247 12.17850574\n",
            " 12.25484179 12.1418347  12.38123767 12.33444473 12.54702872 12.63765315\n",
            " 12.13250503 12.49525633 12.51807807 12.5941315  12.70351872 12.63145635\n",
            " 13.16671248 13.19526167 12.93727324 12.71835633 12.84171249 12.57845331\n",
            " 12.49363298 12.79438212 12.78406244 12.87974078 12.37639811 12.40699544\n",
            " 12.80975224 13.00287504 13.34093582 13.63222507 13.60251895 13.53405353\n",
            " 13.83872401 13.76765991 13.82640204 13.61171784 13.66710908 13.12499805\n",
            " 12.6770488  12.80440449 13.14773233 13.26815953 12.84146797 12.86914823\n",
            " 12.40551752 12.63958597 13.03839768 12.72518318 12.75358922 12.74147927\n",
            " 13.26054653 13.24548286 13.36209317 13.69352773 13.81278462 13.54770255\n",
            " 13.64283533 13.60766838 13.87887782 14.21922971 14.20898129 14.59048235\n",
            " 14.71375617 14.96257363 14.90616186 14.69344483 14.92526104 15.12912058\n",
            " 15.26368106 15.56611353 15.76917046 16.10441195 16.06581647 15.77233809\n",
            " 15.46042392 15.29914958 15.68595086 15.96932289 16.00728045 15.82559414\n",
            " 15.93564855 16.04259682 15.85267083 16.18630685 16.42261426 16.51260193\n",
            " 16.38323152 15.93555781 15.39782206 15.33245417 15.43248507 15.39191633\n",
            " 14.68182178 15.15197413 15.14866516 15.06066628 14.75813094 14.70646463\n",
            " 14.84557917 14.33302729 14.61806943 14.4648996  14.38883802 14.50034587\n",
            " 14.63801089 14.33328889 14.53644334 14.2436931  13.94459049 13.79874852\n",
            " 13.4534785  13.65339174 13.6567299  13.53231453]\n",
            "------------------------------------------------\n",
            "max price point  16.512601934421934\n",
            "------------------------------------------------\n",
            "minimum price point  8.173085250647862\n"
          ],
          "name": "stdout"
        }
      ]
    },
    {
      "cell_type": "code",
      "metadata": {
        "id": "xPejbNJecdCI",
        "outputId": "32529c6c-8908-4c18-c544-2e2502061c1b",
        "colab": {
          "base_uri": "https://localhost:8080/",
          "height": 265
        }
      },
      "source": [
        "# code to plot\n",
        "import matplotlib.pyplot as plt\n",
        "plt.plot(price)\n",
        "plt.grid()\n",
        "plt.show()\n"
      ],
      "execution_count": 26,
      "outputs": [
        {
          "output_type": "display_data",
          "data": {
            "image/png": "[encoded data removed]",
            "text/plain": [
              "<Figure size 432x288 with 1 Axes>"
            ]
          },
          "metadata": {
            "tags": [],
            "needs_background": "light"
          }
        }
      ]
    },
    {
      "cell_type": "code",
      "metadata": {
        "id": "6ubE8pnyci5g"
      },
      "source": [
        "# We have the same code, everything in one cell, and every time \n",
        "# we run the cell, we will get a different simulation.\n",
        "\n",
        "\n"
      ],
      "execution_count": null,
      "outputs": []
    },
    {
      "cell_type": "markdown",
      "metadata": {
        "id": "fMfMdlsMcodO"
      },
      "source": [
        "> In this Notebook (***after the Introduction***), we learned about numpy, a library designed to do vectorized operations.\n",
        "\n",
        "> We also learned about NumPy arrays, which are the main objects in NumPy. We learned how to create them, looked into their various attributes, explored which arrays are used in basic math, and did some manipulation with arrays. Then, we learned how to perform and run simple simulations using NumPy.\n",
        "\n",
        "> In the next chapter, we will look at **pandas**, the most popular library for **doing data analysis in Python**.\n",
        "\n",
        "<hr />"
      ]
    },
    {
      "cell_type": "markdown",
      "metadata": {
        "id": "yEQL_mvJW_br"
      },
      "source": [
        "<hr>\n",
        "<font color='green'><b>You have reached till here ... solving problems, Trust me you are going great !!! </b></font>\n",
        "<hr>\n",
        "\n",
        "<b>We will now meet our friend <font color='green'>Pandas</font> in the next chapter </b>"
      ]
    },
    {
      "cell_type": "markdown",
      "metadata": {
        "id": "j7H5j0PbOEgB"
      },
      "source": [
        "#Home Case Study\n",
        "\n",
        "Let us consider a dataset consisting of runs scored by **Sachin** and **Dravid** and team India across a subset of matches. The data set covers **225** matches. Let us try and answer a few questions. Download data set. \n",
        "\n",
        "**`Data Source link`** : https://drive.google.com/file/d/1pnpplikqLIdtjde5C-kqOblfUuvzhBFp/view?usp=sharing\n",
        "\n",
        "<hr />\n",
        "<small><b>.tsv</b> means tab seperated values </small> \n",
        "<hr />"
      ]
    },
    {
      "cell_type": "code",
      "metadata": {
        "id": "8c_8UhEePkLU",
        "outputId": "7f72151a-1dbf-41e4-ebe4-ca50a2de003b",
        "colab": {
          "resources": {
            "http://localhost:8080/nbextensions/google.colab/files.js": {
              "data": "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",
              "ok": true,
              "headers": [
                [
                  "content-type",
                  "application/javascript"
                ]
              ],
              "status": 200,
              "status_text": ""
            }
          },
          "base_uri": "https://localhost:8080/",
          "height": 72
        }
      },
      "source": [
        "from google.colab import files\n",
        "uploaded = files.upload()"
      ],
      "execution_count": 1,
      "outputs": [
        {
          "output_type": "display_data",
          "data": {
            "text/html": [
              "\n",
              "     <input type=\"file\" id=\"files-dc0fa47c-af26-47bc-88df-97ed69023d24\" name=\"files[]\" multiple disabled\n",
              "        style=\"border:none\" />\n",
              "     <output id=\"result-dc0fa47c-af26-47bc-88df-97ed69023d24\">\n",
              "      Upload widget is only available when the cell has been executed in the\n",
              "      current browser session. Please rerun this cell to enable.\n",
              "      </output>\n",
              "      <script src=\"/nbextensions/google.colab/files.js\"></script> "
            ],
            "text/plain": [
              "<IPython.core.display.HTML object>"
            ]
          },
          "metadata": {
            "tags": []
          }
        },
        {
          "output_type": "stream",
          "text": [
            "Saving cric_data-200320-181217.tsv to cric_data-200320-181217.tsv\n"
          ],
          "name": "stdout"
        }
      ]
    },
    {
      "cell_type": "code",
      "metadata": {
        "id": "edL9uX8pPgKN",
        "outputId": "9542a747-32f5-4166-d8dc-6f2f785ca939",
        "colab": {
          "base_uri": "https://localhost:8080/",
          "height": 68
        }
      },
      "source": [
        "import numpy as np\n",
        "## Loading the data\n",
        "cric_data = np.loadtxt(\"cric_data-200320-181217.tsv\", skiprows=1)\n",
        "print(cric_data[:2])\n",
        "cric_data.shape      "
      ],
      "execution_count": 21,
      "outputs": [
        {
          "output_type": "stream",
          "text": [
            "[[  0. 100.  78. 342.]\n",
            " [  1.  11.  62. 191.]]\n"
          ],
          "name": "stdout"
        },
        {
          "output_type": "execute_result",
          "data": {
            "text/plain": [
              "(225, 4)"
            ]
          },
          "metadata": {
            "tags": []
          },
          "execution_count": 21
        }
      ]
    },
    {
      "cell_type": "code",
      "metadata": {
        "id": "WkuDHupxQldd",
        "outputId": "83c6f410-d858-447c-e2eb-b0e0e6fcc2c2",
        "colab": {
          "base_uri": "https://localhost:8080/",
          "height": 102
        }
      },
      "source": [
        "## The output looks like below where the first column denotes index, \n",
        "## the second column denotes Sachin’s runs, the third column denoted Dravid’s runs \n",
        "## and the fourth column denotes India’s runs in every match.\n",
        "\n",
        "cric_data[ : 5]    ## printing just 1st 5 rows, to feel the data "
      ],
      "execution_count": 13,
      "outputs": [
        {
          "output_type": "execute_result",
          "data": {
            "text/plain": [
              "array([[  0., 100.,  78., 342.],\n",
              "       [  1.,  11.,  62., 191.],\n",
              "       [  2.,   8.,  85., 252.],\n",
              "       [  3.,  71.,  24., 307.],\n",
              "       [  4., 104.,  17., 229.]])"
            ]
          },
          "metadata": {
            "tags": []
          },
          "execution_count": 13
        }
      ]
    },
    {
      "cell_type": "code",
      "metadata": {
        "id": "cEIFCDnOQ4aY",
        "outputId": "839b283b-351c-462c-cd43-8ddffa0412c1",
        "colab": {
          "base_uri": "https://localhost:8080/",
          "height": 51
        }
      },
      "source": [
        "## Let us first divide the n-d array into individual components.\n",
        "\n",
        "Sachin = cric_data[ : , 1]  # Column 2\n",
        "Dravid = cric_data[ : , 2]  # Column 3   \n",
        "India  = cric_data[ : , 3]  # Column 4  \n",
        "\n",
        "## Note - ':' indicates all values along that dimension\n",
        "\n",
        "## runs scored by Sachin\n",
        "print(Sachin[ : 5])\n",
        "\n",
        "## runs scored by Dravid\n",
        "print(Dravid[ : 5])"
      ],
      "execution_count": 14,
      "outputs": [
        {
          "output_type": "stream",
          "text": [
            "[100.  11.   8.  71. 104.]\n",
            "[78. 62. 85. 24. 17.]\n"
          ],
          "name": "stdout"
        }
      ]
    },
    {
      "cell_type": "markdown",
      "metadata": {
        "id": "mQDsy_tGRgcS"
      },
      "source": [
        "**`One important point`** to note is the above arrays Sachin, Dravid and India are slices of the actual array but **`not deep copies`**. If you have an idea about how slicing works I guess you are getting my point. Here the above three arrays are just mere references or views to the actual cric_data but not deep copies."
      ]
    },
    {
      "cell_type": "code",
      "metadata": {
        "id": "XT5EOR8LRZAX",
        "outputId": "32edb88d-327c-4581-beff-f042caaea0d9",
        "colab": {
          "base_uri": "https://localhost:8080/",
          "height": 168
        }
      },
      "source": [
        "## Q1 : 1) Find the Mean and Median of Sachin, Dravid and India.\n",
        "## use NumPy library functions np.mean() and np.median() to achieve the desired results.\n",
        "\n",
        "def stats(col):\n",
        "    print('Mean', np.mean(col))\n",
        "    print('Median', np.median(col))\n",
        "\n",
        "print(\"Stats for Sachin Sir\")\n",
        "stats(Sachin)     \n",
        "\n",
        "print(\"Stats for Dravid Sir\")\n",
        "stats(Dravid)     \n",
        "\n",
        "print(\"Stats for my Country\")\n",
        "stats(India)      "
      ],
      "execution_count": null,
      "outputs": [
        {
          "output_type": "stream",
          "text": [
            "Stats for Sachin Sir\n",
            "Mean 39.87555555555556\n",
            "Median 27.0\n",
            "Stats for Dravid Sir\n",
            "Mean 32.062222222222225\n",
            "Median 22.0\n",
            "Stats for my Country\n",
            "Mean 220.79555555555555\n",
            "Median 216.0\n"
          ],
          "name": "stdout"
        }
      ]
    },
    {
      "cell_type": "code",
      "metadata": {
        "id": "GlYlp_9USfY4",
        "outputId": "0d9676c7-0443-48ad-c897-49bdcdba9069",
        "colab": {
          "base_uri": "https://localhost:8080/",
          "height": 34
        }
      },
      "source": [
        "## Q2: How many centuries did Sachin and Dravid Score?\n",
        "## Use count_nonzero method(condition) -> we can find a count of elements that satisfy a given condition. \n",
        "\n",
        "np.count_nonzero(Sachin>99)    "
      ],
      "execution_count": null,
      "outputs": [
        {
          "output_type": "execute_result",
          "data": {
            "text/plain": [
              "26"
            ]
          },
          "metadata": {
            "tags": []
          },
          "execution_count": 40
        }
      ]
    },
    {
      "cell_type": "code",
      "metadata": {
        "id": "429B6CBgSxfm",
        "outputId": "e29c22b9-0ebb-46e7-ac60-64d647e43f98",
        "colab": {
          "base_uri": "https://localhost:8080/",
          "height": 34
        }
      },
      "source": [
        "## Q3 : How many matches did Sachin and Dravid take to reach 1000 runs?\n",
        "## use cumulative sum to solve this question. \n",
        "## The method np.cumsum(array) would perform the cumulative sum of all elements in the array. \n",
        "## Example: a=[1,2,3,4].\n",
        "## np.cumsum(a) will return [1,3,6,10]\n",
        "\n",
        "sachin_cumscores = np.cumsum(Sachin)\n",
        "np.searchsorted(sachin_cumscores, 1000)\n",
        "\n",
        "## numpy.searchsorted() function is used to find the indices into a sorted array."
      ],
      "execution_count": null,
      "outputs": [
        {
          "output_type": "execute_result",
          "data": {
            "text/plain": [
              "29"
            ]
          },
          "metadata": {
            "tags": []
          },
          "execution_count": 43
        }
      ]
    },
    {
      "cell_type": "markdown",
      "metadata": {
        "id": "N6p2-bB_fGx0"
      },
      "source": [
        "It means **`Sachin took 29 matches`** to score his first 1000 runs. And here search sorted finds indices where elements should be inserted so that order can be maintained.\n",
        "<br />\n",
        "<b>np.searchsorted([1,2,3,4,5], 3)</b>\n",
        "<br />\n",
        "<font color='darkgreen'><b>Output: 2</b></font>\n",
        "<br />\n",
        "<small>(3 can be inserted only after second index in-order to maintain sorted nature) </small>"
      ]
    },
    {
      "cell_type": "code",
      "metadata": {
        "id": "59annLQ1gbMR",
        "outputId": "d5d178c5-d274-42ea-a6e0-0d27de715633",
        "colab": {
          "base_uri": "https://localhost:8080/",
          "height": 34
        }
      },
      "source": [
        "## Q4 : For every match find out who has scored more — Sachin or Dravid\n",
        "## We would like to have an output of the form [Sachin, Dravid, Sachin, Sachin……] for all the 225 matches played.\n",
        "\n",
        "Sachin_and_Dravid = cric_data[:, 0:2]\n",
        "\n",
        "## The below method would return [0,1,1,0,1......] for all the matches \n",
        "## where 0 denotes Sachin scored more and 1 denotes Dravid scored more.\n",
        "is_dravid_higher = np.argmax(Sachin_and_Dravid, axis=1)\n",
        "\n",
        "## we are kind of replcing 0 with Sachin and 1 with Rahul\n",
        "result = np.where(is_dravid_higher == 0, 'Sachin', 'Rahul')\n",
        "\n",
        "result[ : 5]"
      ],
      "execution_count": null,
      "outputs": [
        {
          "output_type": "execute_result",
          "data": {
            "text/plain": [
              "array(['Rahul', 'Rahul', 'Rahul', 'Rahul', 'Rahul'], dtype='<U6')"
            ]
          },
          "metadata": {
            "tags": []
          },
          "execution_count": 46
        }
      ]
    },
    {
      "cell_type": "markdown",
      "metadata": {
        "id": "NMUpqDneis92"
      },
      "source": [
        "**`np.argmax()`** has a parameter, `axis` which specifies to find max element across row/column. **`1`** denotes across row and **`0`** denotes across column.\n",
        "\n",
        "**`np.where(condition, [x,y])`** returns `x` or `y` depending on condition."
      ]
    },
    {
      "cell_type": "markdown",
      "metadata": {
        "id": "gCQDmF2joJfM"
      },
      "source": [
        "<hr />\n",
        "\n",
        "**Connect with the Author** of this Notebook <font color=\"darkgreen\"><b>Prof Rocky Jagtiani</b></font> (https://www.linkedin.com/in/rocky-jagtiani-3b390649/)\n",
        "\n",
        "<hr />"
      ]
    }
  ]
}